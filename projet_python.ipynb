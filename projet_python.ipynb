{
 "cells": [
  {
   "cell_type": "markdown",
   "metadata": {},
   "source": [
    "# Projet de détection de logos\n",
    "\n",
    "> L\\'objectif est de détecter des logos dans des images pour ensuite classifier les documents.\n",
    "> Nous travaillons sur "
   ]
  },
  {
   "cell_type": "code",
   "execution_count": 2,
   "metadata": {},
   "outputs": [],
   "source": [
    "import skimage"
   ]
  },
  {
   "cell_type": "code",
   "execution_count": 3,
   "metadata": {},
   "outputs": [],
   "source": [
    "import cv2 as cv\n",
    "import numpy as np\n",
    "from matplotlib import pyplot as plt\n",
    "import os \n",
    "from pdf2image import convert_from_bytes, convert_from_path\n",
    "from PIL import Image\n",
    "#import pytesseract\n",
    "from pdf2image import convert_from_path\n",
    "import matplotlib.image as mpimg\n",
    "import re\n",
    "import pandas as pd\n",
    "import argparse\n",
    "import imutils"
   ]
  },
  {
   "cell_type": "code",
   "execution_count": null,
   "metadata": {},
   "outputs": [],
   "source": [
    "path=r'Factures_PDF'  \n",
    "listelem=[]\n",
    "listePDF=[]\n",
    "files=os.listdir(path)\n",
    "\n",
    "for name in files:\n",
    "    listelem.append(name)\n",
    "    \n",
    "for i in range(0,len(listelem),1):\n",
    "    if listelem[i][-4:]=='.pdf':\n",
    "        a=listelem[i]\n",
    "        listePDF.append(a)\n",
    "  \n",
    "pdf = []\n",
    "n = 1\n",
    "for i in listePDF:\n",
    "    imgs = convert_from_path(path+'/'+i, 500, use_pdftocairo=True, strict=False)\n",
    "    pdf.append(imgs)\n",
    "    \n",
    "    for img in imgs :\n",
    "        for j in range(len(imgs)):\n",
    "            jpg = img.save('JPG/'+str(i)+'_Page '+str(j+1)+'.jpg', 'JPEG')\n",
    "\n",
    "listeJPG = []\n",
    "path=r'out/JPG'\n",
    "listelem2=[]\n",
    "\n",
    "files=os.listdir(path)\n",
    "\n",
    "for name in files:\n",
    "    listelem2.append(name)\n",
    "    \n",
    "for i in range(0,len(listelem2),1):\n",
    "    if listelem2[i][-4:]=='.jpg':\n",
    "        a=listelem2[i]\n",
    "        listeJPG.append(a)"
   ]
  },
  {
   "cell_type": "code",
   "execution_count": null,
   "metadata": {},
   "outputs": [],
   "source": [
    "path=r'JPG/JPG_GRIS'\n",
    "\n",
    "os.listdir(path)\n",
    "\n",
    "def get_grayscale(image):\n",
    "\n",
    "    imgG = mpimg.imread('JPG/'+image,0)\n",
    "    imgGray = cv2.cvtColor(imgG, cv2.COLOR_BGR2GRAY)\n",
    "    cv2.imwrite('JPG/JPG_GRIS/'+image, imgGray)\n",
    "    #plt.imshow(imgGray, cmap = \"gray\")\n",
    "    #plt.savefig('JPG/JPG_GRIS/'+image)\n",
    "    #plt.show\n",
    "\n",
    "#boucle pour appliquer le gris sur toutes les images\n",
    "for i in range(len(listeJPG)):\n",
    "    image_path = listeJPG[i]\n",
    "\n",
    "    get_grayscale(image_path)"
   ]
  },
  {
   "cell_type": "code",
   "execution_count": 17,
   "metadata": {
    "scrolled": false
   },
   "outputs": [
    {
     "data": {
      "text/plain": [
       "-1"
      ]
     },
     "execution_count": 17,
     "metadata": {},
     "output_type": "execute_result"
    },
    {
     "data": {
      "image/png": "[encoded data removed]",
      "text/plain": [
       "<Figure size 432x288 with 1 Axes>"
      ]
     },
     "metadata": {
      "needs_background": "light"
     },
     "output_type": "display_data"
    }
   ],
   "source": [
    "path=r'JPG'\n",
    "\n",
    "img = cv.imread (path+ '/bulletin_paie_1.pdf_Page 1.jpg' ,0)\n",
    "img2 = img.copy()\n",
    "template = cv.imread(path+'/bulletin/B3.png',0)\n",
    "(tH, tW) = template.shape[:2]\n",
    "w, h = template.shape[::-1]\n",
    "# Toutes les 6 méthodes de comparaison dans une liste\n",
    "methods = [ 'cv.TM_CCOEFF' ]\n",
    "#methods = [ 'cv.TM_CCOEFF' , 'cv.TM_CCOEFF_NORMED' , 'cv.TM_CCORR' ,\n",
    "            #'cv.TM_CCORR_NORMED' , 'cv.TM_SQDIFF' , 'cv.TM_SQDIFF_NORMED' ]\n",
    "found = None\n",
    "\n",
    "for scale in np.linspace(0.2, 1.0, 20)[::-1]:\n",
    "    # resize the image according to the scale, and keep track\n",
    "        # of the ratio of the resizing\n",
    "    resized = imutils.resize(img, width = int(img.shape[1] * scale))\n",
    "    r = img.shape[1] / float(resized.shape[1])\n",
    "    # if the resized image is smaller than the template, then break\n",
    "    # from the loop\n",
    "    if resized.shape[0] < tH or resized.shape[1] < tW:\n",
    "        break\n",
    "    edged = cv.Canny(resized, 50, 200)\n",
    "    \n",
    "    plt.subplot(122),plt.imshow(edged,cmap = 'Greys')\n",
    "    \n",
    "    for meth in methods:\n",
    "        img = img2.copy()\n",
    "        method = eval(meth)\n",
    "        # Apply template Matching\n",
    "        res = cv.matchTemplate(edged,template,method)\n",
    "        minVal, maxVal, minLoc, maxLoc = cv.minMaxLoc(res)\n",
    "        \n",
    "        # if we have found a new maximum correlation value, then update\n",
    "        # the bookkeeping variable\n",
    "        if found is None or maxVal > found[0]:\n",
    "            found = (maxVal, maxLoc, r)\n",
    "            \n",
    "        # if the method is TM_SQDIFF or TM_SQDIFF_NORMED, take minimum\n",
    "        if method in [cv.TM_SQDIFF, cv.TM_SQDIFF_NORMED]:\n",
    "            top_left = minLoc\n",
    "        else:\n",
    "            top_left = maxLoc\n",
    "        '''\n",
    "        bottom_right = (top_left[0] + w, top_left[1] + h)\n",
    "        cv.rectangle(img,top_left, bottom_right, (0,255,0) , 2)\n",
    "        plt.subplot(121),plt.imshow(res,cmap = 'Greys')\n",
    "        plt.title('Matching Result'), plt.xticks([]), plt.yticks([])\n",
    "        plt.subplot(122),plt.imshow(img,cmap = 'Greys')\n",
    "        plt.title('Detected Point'), plt.xticks([]), plt.yticks([])\n",
    "        plt.suptitle(meth)\n",
    "        plt.show();\n",
    "        '''\n",
    "# unpack the bookkeeping variable and compute the (x, y) coordinates\n",
    "# of the bounding box based on the resized ratio\n",
    "(_, maxLoc, r) = found\n",
    "(startX, startY) = (int(maxLoc[0] * r), int(maxLoc[1] * r))\n",
    "(endX, endY) = (int((maxLoc[0] + tW) * r), int((maxLoc[1] + tH) * r))\n",
    "# draw a bounding box around the detected result and display the image\n",
    "cv.rectangle(img2, (startX, startY), (endX, endY), (0, 0, 255), 2)\n",
    "cv.imshow(\"Image\", img2);\n",
    "cv.waitKey(0)"
   ]
  },
  {
   "cell_type": "code",
   "execution_count": null,
   "metadata": {},
   "outputs": [],
   "source": []
  },
  {
   "cell_type": "code",
   "execution_count": null,
   "metadata": {},
   "outputs": [],
   "source": []
  },
  {
   "cell_type": "code",
   "execution_count": null,
   "metadata": {},
   "outputs": [],
   "source": []
  },
  {
   "cell_type": "code",
   "execution_count": null,
   "metadata": {},
   "outputs": [],
   "source": []
  },
  {
   "cell_type": "code",
   "execution_count": null,
   "metadata": {},
   "outputs": [],
   "source": []
  }
 ],
 "metadata": {
  "kernelspec": {
   "display_name": "Python 3 (ipykernel)",
   "language": "python",
   "name": "python3"
  },
  "language_info": {
   "codemirror_mode": {
    "name": "ipython",
    "version": 3
   },
   "file_extension": ".py",
   "mimetype": "text/x-python",
   "name": "python",
   "nbconvert_exporter": "python",
   "pygments_lexer": "ipython3",
   "version": "3.9.7"
  }
 },
 "nbformat": 4,
 "nbformat_minor": 4
}
